{
  "cells": [
    {
      "cell_type": "code",
      "execution_count": null,
      "metadata": {
        "id": "GTtVnkC-6_i7"
      },
      "outputs": [],
      "source": [
        "#@title Imports. { vertical-output: true }\n",
        "\n",
        "import dataclasses\n",
        "import functools\n",
        "import sqlite3\n",
        "import os\n",
        "from typing import Callable\n",
        "import numpy as np\n",
        "from concurrent import futures\n",
        "import tqdm\n",
        "import time\n",
        "from scipy import stats\n",
        "from matplotlib import pyplot as plt\n",
        "from ml_collections import config_dict\n",
        "from IPython.display import display\n",
        "import ipywidgets as widgets\n",
        "from chirp import audio_utils\n",
        "from chirp.projects.agile2 import colab_utils\n",
        "from chirp.projects.agile2 import embed\n",
        "from chirp.projects.hoplite import interface"
      ]
    },
    {
      "cell_type": "markdown",
      "metadata": {
        "id": "4T4vILrO80iP"
      },
      "source": [
        "## Embed"
      ]
    },
    {
      "cell_type": "code",
      "execution_count": null,
      "metadata": {
        "id": "c6zdGxl68vft"
      },
      "outputs": [],
      "source": [
        "#@title Configuration { vertical-output: true }\n",
        "\n",
        "# Configure the raw dataset location(s).  The format is a mapping from a\n",
        "# dataset_name to a (path, fileglob) pair.  Note that the file globs are case\n",
        "# sensitive.  The dataset name can be anything you want.\n",
        "#\n",
        "# This structure allows you to move your data around without having to re-embed\n",
        "# the dataset.  The generated embedding database will be placed next to the\n",
        "# audio files. This allows you to simply swap out the base path here if you ever\n",
        "# move your dataset.\n",
        "audio_globs = {\n",
        "    'dataset_1':\n",
        "        ('/path/to/dataset/1', '*.WAV',),\n",
        "    'dataset_2':\n",
        "        ('/path/to/dataset/2', '*/*.mp4',),\n",
        "}\n",
        "\n",
        "# By default we only process one dataset at a time.  Re-run this entire notebook\n",
        "# once per dataset.  The embeddings database will be located in the same\n",
        "# directory as the raw audio\n",
        "dataset_name = 'dataset_1'  #@param\n",
        "\n",
        "if dataset_name not in audio_globs:\n",
        "  raise ValueError(f'Dataset {dataset_name} not found in audio_globs')\n",
        "\n",
        "globs_to_process = {dataset_name: audio_globs[dataset_name]}\n",
        "\n",
        "# You do not need to change this unless you want to maintain multiple distinct\n",
        "# embedding databases.\n",
        "db_path = None\n",
        "configs = colab_utils.load_configs(globs_to_process, db_path)\n",
        "configs"
      ]
    },
    {
      "cell_type": "code",
      "execution_count": null,
      "metadata": {
        "id": "NN9Uyy1yqAWS"
      },
      "outputs": [],
      "source": [
        "#@title Initialize the DB { vertical-output: true }\n",
        "global db\n",
        "db = configs.db_config.load_db()\n",
        "db.setup()\n",
        "num_embeddings = db.count_embeddings()\n",
        "\n",
        "print('Initialized DB located at ', configs.db_config.db_config.db_path)\n",
        "print('Existing DB contains datasets: ', db.get_dataset_names())\n",
        "print('num embeddings: ', num_embeddings)\n",
        "\n",
        "def drop_and_reload_db(_) -\u003e interface.GraphSearchDBInterface:\n",
        "    os.unlink(configs.db_config.db_config.db_path)\n",
        "    print('\\n Deleted previous db at: ', configs.db_config.db_config.db_path)\n",
        "    db = configs.db_config.load_db()\n",
        "    db.setup()\n",
        "\n",
        "drop_existing_db = 'True'  #@param['True', 'False']\n",
        "\n",
        "if num_embeddings \u003e 0 and drop_existing_db == 'True':\n",
        "  print(f'\\n\\nClick the button below to confirm you really want to drop the database at ')\n",
        "  print(f'{configs.db_config.db_config.db_path}\\n')\n",
        "  print(f'This will permanently delete all {num_embeddings} embeddings from the existing database.\\n')\n",
        "  print('If you do NOT want to delete this data, set `drop_existing_db` above to `False` and re-run this cell.\\n')\n",
        "\n",
        "  button = widgets.Button(description=f'Delete database?')\n",
        "  button.on_click(drop_and_reload_db)\n",
        "  display(button)"
      ]
    },
    {
      "cell_type": "code",
      "execution_count": null,
      "metadata": {
        "id": "MnGWbhc0LhiU"
      },
      "outputs": [],
      "source": [
        "#@title Run the embedding { vertical-output: true }\n",
        "\n",
        "# If the DB already exists, we need to make sure that the the current\n",
        "# model_config is compatible with the model_config that was used previously.\n",
        "colab_utils.validate_and_save_configs(configs, db)\n",
        "\n",
        "print(f'Datasets requested to embed: {[key for key in globs_to_process]}')\n",
        "\n",
        "# Avoid re-embedding datasets that are already present in the DB\n",
        "# TODO(roblaber) Make this filtering more granular, ie, avoid re-embedding\n",
        "#  (dataset, filename) pairs\n",
        "for dataset in db.get_dataset_names():\n",
        "  if dataset in globs_to_process:\n",
        "    globs_to_process.pop(dataset)\n",
        "    print(f'\\nDataset \\'{dataset}\\' already present in DB, not re-embedding')\n",
        "\n",
        "new_datasets = [key for key in globs_to_process]\n",
        "\n",
        "print(f'\\nNew datasets to embed: {new_datasets}')\n",
        "print(f'\\nPreparing to embed {len(new_datasets)} datasets...\\n')\n",
        "\n",
        "worker = embed.EmbedWorker(\n",
        "    embed_config=configs.audio_sources_config,\n",
        "    db=db,\n",
        "    model_config=configs.model_config)\n",
        "\n",
        "worker.process_all()\n",
        "\n",
        "print('\\n\\nEmbedding complete, total embeddings: ', db.count_embeddings())"
      ]
    },
    {
      "cell_type": "code",
      "execution_count": null,
      "metadata": {
        "id": "HvVuFw-somHe"
      },
      "outputs": [],
      "source": [
        "#@title Per dataset statistics { vertical-output: true }\n",
        "\n",
        "for dataset in db.get_dataset_names():\n",
        "  print(f'\\nDataset \\'{dataset}\\':')\n",
        "  print('\\tnum embeddings: ', db.get_embeddings_by_source(dataset, source_id=None).shape[0])"
      ]
    }
  ],
  "metadata": {
    "colab": {
      "last_runtime": {
        "build_target": "",
        "kind": "local"
      },
      "name": "v2_1_embed_unlabeled_audio.ipynb",
      "private_outputs": true,
      "provenance": [
        {
          "file_id": "1ePT3-fDB3kA3_T7trthFtu8xTJQWQBoQ",
          "timestamp": 1723499538314
        }
      ]
    },
    "kernelspec": {
      "display_name": "Python 3",
      "name": "python3"
    },
    "language_info": {
      "name": "python"
    }
  },
  "nbformat": 4,
  "nbformat_minor": 0
}
